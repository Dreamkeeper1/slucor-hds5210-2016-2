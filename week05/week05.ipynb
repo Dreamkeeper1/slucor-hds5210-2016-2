{
 "cells": [
  {
   "cell_type": "markdown",
   "metadata": {},
   "source": [
    "## Predefined Module for Week 5"
   ]
  },
  {
   "cell_type": "code",
   "execution_count": 2,
   "metadata": {
    "collapsed": true
   },
   "outputs": [],
   "source": [
    "def lb2kg(lb):\n",
    "    \"\"\" (float) -> float\n",
    "    Converts lbs to kgs\n",
    "    \n",
    "    >>> lb2kg(1)\n",
    "    0.454    \n",
    "    \"\"\"\n",
    "    return lb * 0.454"
   ]
  },
  {
   "cell_type": "code",
   "execution_count": 3,
   "metadata": {
    "collapsed": true
   },
   "outputs": [],
   "source": [
    "def in2m(inch):\n",
    "    \"\"\" (float) -> float\n",
    "    Convers inches to meters\n",
    "    \n",
    "    >>> in2m(1)\n",
    "    0.0254\n",
    "    \"\"\"\n",
    "    return inch * 0.0254"
   ]
  },
  {
   "cell_type": "code",
   "execution_count": 4,
   "metadata": {
    "collapsed": false
   },
   "outputs": [
    {
     "data": {
      "text/plain": [
       "45.4"
      ]
     },
     "execution_count": 4,
     "metadata": {},
     "output_type": "execute_result"
    }
   ],
   "source": [
    "lb2kg(100)"
   ]
  }
 ],
 "metadata": {
  "kernelspec": {
   "display_name": "Python 3",
   "language": "python",
   "name": "python3"
  },
  "language_info": {
   "codemirror_mode": {
    "name": "ipython",
    "version": 3
   },
   "file_extension": ".py",
   "mimetype": "text/x-python",
   "name": "python",
   "nbconvert_exporter": "python",
   "pygments_lexer": "ipython3",
   "version": "3.4.3"
  }
 },
 "nbformat": 4,
 "nbformat_minor": 0
}
