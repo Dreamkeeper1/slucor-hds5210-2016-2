{
 "cells": [
  {
   "cell_type": "code",
   "execution_count": null,
   "metadata": {
    "collapsed": true
   },
   "outputs": [],
   "source": [
    "def lbs2kgs(lbs):\n",
    "    return lbs * .454"
   ]
  },
  {
   "cell_type": "code",
   "execution_count": null,
   "metadata": {
    "collapsed": true
   },
   "outputs": [],
   "source": [
    "def inches2ms(inches):\n",
    "    return inches * 2.54 / 100"
   ]
  },
  {
   "cell_type": "code",
   "execution_count": null,
   "metadata": {
    "collapsed": true
   },
   "outputs": [],
   "source": [
    "def tsp2ml(tsp):\n",
    "    return tsp * 4.93"
   ]
  },
  {
   "cell_type": "code",
   "execution_count": null,
   "metadata": {
    "collapsed": true
   },
   "outputs": [],
   "source": [
    "def mg_per_hour2g_per_day(mg_per_hour):\n",
    "    mg_per_day = mg_per_hour * 24\n",
    "    g_per_day = mg_per_day / 1000\n",
    "    return g_per_day"
   ]
  },
  {
   "cell_type": "code",
   "execution_count": null,
   "metadata": {
    "collapsed": true
   },
   "outputs": [],
   "source": [
    "def los_points(days):\n",
    "    if days <= 1:\n",
    "        points = 0\n",
    "    elif days >= 14:\n",
    "        points = 7\n",
    "    else:\n",
    "        points = days\n",
    "    \n",
    "    return days"
   ]
  }
 ],
 "metadata": {
  "kernelspec": {
   "display_name": "Python 3",
   "language": "python",
   "name": "python3"
  },
  "language_info": {
   "codemirror_mode": {
    "name": "ipython",
    "version": 3
   },
   "file_extension": ".py",
   "mimetype": "text/x-python",
   "name": "python",
   "nbconvert_exporter": "python",
   "pygments_lexer": "ipython3",
   "version": "3.4.3"
  }
 },
 "nbformat": 4,
 "nbformat_minor": 0
}
