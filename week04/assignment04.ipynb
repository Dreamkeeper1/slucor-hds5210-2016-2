{
 "cells": [
  {
   "cell_type": "markdown",
   "metadata": {},
   "source": [
    "_SLUCOR HDS5210 - Programming for Health Data Science - 2016 Fall_\n",
    "\n",
    "## Week 3 (Sep 7) Exercises\n",
    "\n",
    "Before starting, be sure that you have completed the GitHub setup from week 2 and have your hds5210-week02 repository setup from the homework last assignments. You'll continue to use the same Git project / repository to submit your assignments.\n",
    "\n",
    "Note that the lecture notes for this week can be found here:\n",
    "https://drive.google.com/open?id=1lhaFvEcPYLa8xxIFEOrowCwtE3I0UPMPYuxIpbzgrOI\n"
   ]
  },
  {
   "cell_type": "code",
   "execution_count": null,
   "metadata": {
    "collapsed": true
   },
   "outputs": [],
   "source": []
  },
  {
   "cell_type": "markdown",
   "metadata": {},
   "source": [
    "---\n",
    "# 1 - NAND (5 pts)\n",
    "Inside of computer chips, it's often easier to do a logical operation called NAND (not and).  Write a function that takes two boolean parameters and returns the NAND of those values.  Here is the k-map for NAND:\n",
    "\n",
    "```\n",
    "NAND: \n",
    "\n",
    "        TRUE   FALSE\n",
    "TRUE    False  True\n",
    "FALSE   True   True\n",
    "```\n",
    "\n",
    "Include the four tests from the k-map in your docstring, and show the output of testing your function for correct operation using testmod() as demonstrated during class."
   ]
  },
  {
   "cell_type": "code",
   "execution_count": null,
   "metadata": {
    "collapsed": true
   },
   "outputs": [],
   "source": []
  },
  {
   "cell_type": "markdown",
   "metadata": {},
   "source": [
    "# 2 - LACE Score (10 pts)\n",
    "There is a simple readmission index called the LACE Score: https://www.hindawi.com/journals/bmri/2015/169870/tab1/\n",
    "\n",
    "Use this documentation to create a function that can compute LACE scores based on the 4 input parameters.  Below is the function signature and documentation that you start with. Include 3 test cases and demonstrate them using testmod()."
   ]
  },
  {
   "cell_type": "code",
   "execution_count": null,
   "metadata": {
    "collapsed": true
   },
   "outputs": [],
   "source": [
    "def LACE( length_of_stay, acute_flag, charlson, ed_visits):\n",
    "    \"\"\"(int, bool, int, int) -> int\n",
    "    This function uses the logic from https://www.hindawi.com/journals/bmri/2015/169870/tab1/\n",
    "    to compute the LACE score for this patient.\n",
    "    \n",
    "    >>> LACE(4, False, 1, 0)\n",
    "    5\n",
    "    \n",
    "    >>> LACE(4, True, 4, 7)\n",
    "    16\n",
    "    \n",
    "    \"\"\""
   ]
  },
  {
   "cell_type": "markdown",
   "metadata": {},
   "source": [
    "# 3 - Care Management Criteria (5 pts)\n",
    "Care managers use LACE as part of the criteria for assigning a care coodinator to a patient who has been recently discharged. If the score is above 10, then a care coordinator will be assigned. The other criteria they use is if the patient has been discharged with a diagnosis of CHF or COPD.  If the diagnosis field has CHF or COPD in it, then the patient will have a care coordinator assigned.\n",
    "\n",
    "For this exercise, write another function that takes the same inputs as LACE() plus another diagnosis parameter, and return True or False depending on if the paient needs a care coordinator.\n",
    "\n",
    "**NOTE** Pay attention to the fact that the order of parameters in this function definition are not the same as the order they were in the LACE score.  "
   ]
  },
  {
   "cell_type": "code",
   "execution_count": 1,
   "metadata": {
    "collapsed": true
   },
   "outputs": [],
   "source": [
    "def assign_care_coordinator(diagnosis_cd, ed_visit_count, length_of_stay, acute_flag, charlson):\n",
    "    \"\"\" (str, int, int, bool, int) -> bool\n",
    "    Care managers use LACE as part of the criteria for assigning a care coodinator to a \n",
    "    patient who has been recently discharged. If the score is above 10, then a care \n",
    "    coordinator will be assigned. The other criteria they use is if the patient has been \n",
    "    discharged with a diagnosis of CHF or COPD. If the diagnosis field has CHF or COPD in \n",
    "    it, then the patient will have a care coordinator assigned.\n",
    "    \n",
    "    >>> assign_care_coordinator('None', 0, 4, False, 1)\n",
    "    False\n",
    "\n",
    "    >>> assign_care_coordinator('CHF', 0, 4, False, 1)\n",
    "    True\n",
    "\n",
    "    >>> assign_care_coordinator('COPD', 0, 4, False, 1)\n",
    "    True\n",
    "\n",
    "    >>> assign_care_coordinator('None', 7, 4, True, 4)\n",
    "    True\n",
    "    \n",
    "    >>> assign_care_coordinator('CHF', 7, 4, True, 4)\n",
    "    True\n",
    "    \"\"\""
   ]
  },
  {
   "cell_type": "code",
   "execution_count": null,
   "metadata": {
    "collapsed": true
   },
   "outputs": [],
   "source": [
    "def LACE( length_of_stay, acute_flag, charlson, ed_visits):\n",
    "    \n",
    "    def los_calc(days):\n",
    "        \n",
    "        \n",
    "    if length_of_stay > 5:\n",
    "        value = 1\n",
    "    else\n",
    "        value = 3\n",
    "    \n",
    "    return value\n",
    "\n"
   ]
  },
  {
   "cell_type": "code",
   "execution_count": 10,
   "metadata": {
    "collapsed": true
   },
   "outputs": [],
   "source": [
    "def LACE(acute, days):\n",
    "    points = 0\n",
    "    day_points = 0\n",
    "    \n",
    "    if acute == True: \n",
    "        points = 3\n",
    "        day_points = 10\n",
    "        print(\"acute is True!\")\n",
    "        \n",
    "    if days == 1: \n",
    "        day_points = 1\n",
    "        \n",
    "    return points + day_points\n",
    "\n",
    "LACE(False, 1)"
   ]
  },
  {
   "cell_type": "code",
   "execution_count": 13,
   "metadata": {
    "collapsed": false
   },
   "outputs": [
    {
     "name": "stdout",
     "output_type": "stream",
     "text": [
      "Help on built-in function sum in module builtins:\n",
      "\n",
      "sum(...)\n",
      "    sum(iterable[, start]) -> value\n",
      "    \n",
      "    Return the sum of an iterable of numbers (NOT strings) plus the value\n",
      "    of parameter 'start' (which defaults to 0).  When the iterable is\n",
      "    empty, return start.\n",
      "\n"
     ]
    }
   ],
   "source": [
    "help(sum)"
   ]
  },
  {
   "cell_type": "code",
   "execution_count": 17,
   "metadata": {
    "collapsed": false
   },
   "outputs": [
    {
     "data": {
      "text/plain": [
       "6"
      ]
     },
     "execution_count": 17,
     "metadata": {},
     "output_type": "execute_result"
    }
   ],
   "source": [
    "sum([1,2,3])"
   ]
  }
 ],
 "metadata": {
  "kernelspec": {
   "display_name": "Python 3",
   "language": "python",
   "name": "python3"
  },
  "language_info": {
   "codemirror_mode": {
    "name": "ipython",
    "version": 3
   },
   "file_extension": ".py",
   "mimetype": "text/x-python",
   "name": "python",
   "nbconvert_exporter": "python",
   "pygments_lexer": "ipython3",
   "version": "3.4.3"
  }
 },
 "nbformat": 4,
 "nbformat_minor": 0
}
